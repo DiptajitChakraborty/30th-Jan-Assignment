{
 "cells": [
  {
   "cell_type": "code",
   "execution_count": 5,
   "id": "718a231e-cacf-4caf-b312-e6948817d49a",
   "metadata": {},
   "outputs": [
    {
     "name": "stdin",
     "output_type": "stream",
     "text": [
      "Enter the number  86\n"
     ]
    },
    {
     "name": "stdout",
     "output_type": "stream",
     "text": [
      "Grade B\n"
     ]
    }
   ],
   "source": [
    "#Q1\n",
    "marks = int(input(\"Enter the number \"))\n",
    "if marks > 100 :\n",
    "    print(\"This is out of range\")\n",
    "elif marks <0:\n",
    "    print(\"This is out of range\")\n",
    "else:\n",
    "    if marks>90:\n",
    "        print(\"Grade A\")\n",
    "    elif marks>80 and marks <= 90:\n",
    "        print(\"Grade B\")\n",
    "    elif marks >=60 and marks<=80:\n",
    "        print(\"Grade C\")\n",
    "    else :\n",
    "        print(\"Grade D\")"
   ]
  },
  {
   "cell_type": "code",
   "execution_count": 7,
   "id": "d4b19848-edc4-461f-8194-10c1de6a5bd7",
   "metadata": {},
   "outputs": [
    {
     "name": "stdin",
     "output_type": "stream",
     "text": [
      "Enter the cost price of a bike 4500000\n"
     ]
    },
    {
     "name": "stdout",
     "output_type": "stream",
     "text": [
      "The road tax to be paid is 15%\n"
     ]
    }
   ],
   "source": [
    "#Q2\n",
    "price =float(input(\"Enter the cost price of a bike\"))\n",
    "if price > 100000:\n",
    "    print(\"The road tax to be paid is 15%\")\n",
    "elif price >50000 and price<= 100000:\n",
    "    print(\"The road tax to be paid is 10%\")\n",
    "else:\n",
    "    print(\"The road tax to be paid is 5%\")"
   ]
  },
  {
   "cell_type": "code",
   "execution_count": 11,
   "id": "53d6dafe-a122-4b4c-a26b-5d6c0f1db195",
   "metadata": {},
   "outputs": [
    {
     "name": "stdin",
     "output_type": "stream",
     "text": [
      "Enter the city Delhi\n"
     ]
    },
    {
     "name": "stdout",
     "output_type": "stream",
     "text": [
      "The monument of that city is \"Red Fort\"\n"
     ]
    }
   ],
   "source": [
    "#Q3\n",
    "city = str(input(\"Enter the city\"))\n",
    "if city == 'Delhi':\n",
    "    print('The monument of that city is \"Red Fort\"')\n",
    "elif city =='Agra':\n",
    "    print('The monument of that city is \"Taj Mahal\"')\n",
    "elif city =='Jaipur':\n",
    "    print('The monument of that city is \"Jal Mahal\"')\n",
    "else:\n",
    "    print(\"This is unknown\")"
   ]
  },
  {
   "cell_type": "code",
   "execution_count": 13,
   "id": "23f3f817-8f2d-4db3-ba8e-fc1bfb369588",
   "metadata": {},
   "outputs": [
    {
     "name": "stdin",
     "output_type": "stream",
     "text": [
      "Enter the number  200\n"
     ]
    },
    {
     "name": "stdout",
     "output_type": "stream",
     "text": [
      "The number of times a number can be devided by 3 before it is less than or equal to 10 is = 3\n"
     ]
    }
   ],
   "source": [
    "number = int(input(\"Enter the number \"))\n",
    "count = 0\n",
    "while number >=10:\n",
    "    number = number/3\n",
    "    count+=1\n",
    "print(\"The number of times a number can be devided by 3 before it is less than or equal to 10 is =\",count)"
   ]
  },
  {
   "cell_type": "code",
   "execution_count": 16,
   "id": "4f77e40a-7a0c-4b40-a9bb-3668682499c7",
   "metadata": {},
   "outputs": [
    {
     "name": "stdout",
     "output_type": "stream",
     "text": [
      "1\n",
      "2\n",
      "3\n",
      "4\n",
      "5\n",
      "6\n",
      "7\n",
      "8\n",
      "9\n"
     ]
    }
   ],
   "source": [
    "#Q5\n",
    "# A While loop in Python allows a part of the code to be executed repeatedly as long as a given condition is true. The While loop in Python is also called a pre-tested loop. It is typically used when the number of iterations is not known.\n",
    "\n",
    "# A Python While loop expression/condition consists of three parts:\n",
    "\n",
    "# A piece of code that needs to be repeated over and over\n",
    "# The while keyword\n",
    "# A condition that translates to either True or False\n",
    "\n",
    "#The example of while loop is  run loop until it is less than 10\n",
    "number =1\n",
    "while number <10:\n",
    "    print(number)\n",
    "    number+=1\n"
   ]
  },
  {
   "cell_type": "code",
   "execution_count": 18,
   "id": "519c0a19-0e64-4bee-baa5-fecfd4652ba4",
   "metadata": {},
   "outputs": [
    {
     "name": "stdout",
     "output_type": "stream",
     "text": [
      "* * * \n",
      "  * * \n",
      "    * \n"
     ]
    }
   ],
   "source": [
    "rows = 3\n",
    "i = rows\n",
    "while i >= 1:\n",
    "    j = rows\n",
    "    while j > i:\n",
    "        print(' ', end=' ')\n",
    "        j -= 1\n",
    "    k = 1\n",
    "    while k <= i:\n",
    "        print('*', end=' ')\n",
    "        k += 1\n",
    "    print()\n",
    "    i -= 1"
   ]
  },
  {
   "cell_type": "code",
   "execution_count": null,
   "id": "c65a79de-17fd-422e-a57d-b2a0261b1465",
   "metadata": {},
   "outputs": [],
   "source": []
  }
 ],
 "metadata": {
  "kernelspec": {
   "display_name": "Python 3 (ipykernel)",
   "language": "python",
   "name": "python3"
  },
  "language_info": {
   "codemirror_mode": {
    "name": "ipython",
    "version": 3
   },
   "file_extension": ".py",
   "mimetype": "text/x-python",
   "name": "python",
   "nbconvert_exporter": "python",
   "pygments_lexer": "ipython3",
   "version": "3.10.8"
  }
 },
 "nbformat": 4,
 "nbformat_minor": 5
}
